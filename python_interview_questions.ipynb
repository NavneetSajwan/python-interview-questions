{
 "cells": [
  {
   "cell_type": "markdown",
   "metadata": {},
   "source": [
    "### Decorator:\n",
    "\n",
    "\"A decorator in Python is a special function that allows you to enhance or modify the behavior of other functions or methods without changing their source code. It is applied using the '@' symbol above a function, making the code more modular, reusable, and easier to maintain.\""
   ]
  },
  {
   "cell_type": "code",
   "execution_count": 1,
   "metadata": {},
   "outputs": [
    {
     "name": "stdout",
     "output_type": "stream",
     "text": [
      "Something is happening before the function is called.\n",
      "Hello!\n",
      "Something is happening after the function is called.\n"
     ]
    }
   ],
   "source": [
    "# Decorator function\n",
    "def my_decorator(func):\n",
    "    def wrapper():\n",
    "        print(\"Something is happening before the function is called.\")\n",
    "        func()\n",
    "        print(\"Something is happening after the function is called.\")\n",
    "    return wrapper\n",
    "\n",
    "# Applying the decorator\n",
    "@my_decorator\n",
    "def say_hello():\n",
    "    print(\"Hello!\")\n",
    "\n",
    "# Calling the decorated function\n",
    "say_hello()\n"
   ]
  },
  {
   "cell_type": "markdown",
   "metadata": {},
   "source": [
    "### Generator:\n",
    "\n",
    "A generator in Python is a type of iterable that allows for lazy, on-the-fly generation of values. It's defined as a special type of function using the 'yield' keyword, which yields values one at a time, conserving memory and improving efficiency.\n",
    "\n",
    "Values can either be accesses via the next keyword or a loop."
   ]
  },
  {
   "cell_type": "code",
   "execution_count": 23,
   "metadata": {},
   "outputs": [],
   "source": [
    "def my_generator():\n",
    "    yield 1\n",
    "    yield 2\n",
    "    yield 3\n",
    "\n",
    "gen = my_generator()\n",
    "# for value in gen:\n",
    "#     print(value)\n",
    "next(gen)"
   ]
  },
  {
   "cell_type": "code",
   "execution_count": 42,
   "metadata": {},
   "outputs": [],
   "source": [
    "def n_values(n):\n",
    "    for i in range(n):\n",
    "        yield i\n",
    "    \n",
    "stream = n_values(10)"
   ]
  },
  {
   "cell_type": "code",
   "execution_count": 43,
   "metadata": {},
   "outputs": [
    {
     "data": {
      "text/plain": [
       "0"
      ]
     },
     "execution_count": 43,
     "metadata": {},
     "output_type": "execute_result"
    }
   ],
   "source": [
    "# via next keyword\n",
    "next(stream)"
   ]
  },
  {
   "attachments": {},
   "cell_type": "markdown",
   "metadata": {},
   "source": [
    "\n",
    "### Filter\n",
    "\n",
    "The filter() function in Python is a built-in function that allows you to apply a filtering condition to a sequence, such as a list, tuple, or iterable. It creates an iterator that returns the elements from the original sequence that satisfy the specified condition.\n",
    "\n",
    "Filtering condition is a function that returns True or False"
   ]
  },
  {
   "cell_type": "code",
   "execution_count": 1,
   "metadata": {},
   "outputs": [
    {
     "name": "stdout",
     "output_type": "stream",
     "text": [
      "[2, 4, 6, 8, 10]\n"
     ]
    }
   ],
   "source": [
    "def is_even(n):\n",
    "    return n % 2 == 0\n",
    "\n",
    "numbers = [1, 2, 3, 4, 5, 6, 7, 8, 9, 10]\n",
    "\n",
    "\n",
    "#syntax: filter(function, sequence)\n",
    "even_numbers = list(filter(is_even, numbers))\n",
    "\n",
    "print(even_numbers)  # Output: [2, 4, 6, 8, 10]"
   ]
  },
  {
   "cell_type": "code",
   "execution_count": 3,
   "metadata": {},
   "outputs": [
    {
     "name": "stdout",
     "output_type": "stream",
     "text": [
      "[2, 4, 6, 8, 10]\n"
     ]
    }
   ],
   "source": [
    "def is_even(n):\n",
    "    return n % 2 == 0\n",
    "\n",
    "numbers = [1, 2, 3, 4, 5, 6, 7, 8, 9, 10]\n",
    "\n",
    "\n",
    "#syntax: filter(function, sequence)\n",
    "even_numbers = list(filter(lambda n: n%2==0, numbers))\n",
    "\n",
    "print(even_numbers)  # Output: [2, 4, 6, 8, 10]"
   ]
  },
  {
   "attachments": {},
   "cell_type": "markdown",
   "metadata": {},
   "source": [
    "### Reduce\n",
    "\n",
    "The reduce() function in Python is another built-in function that allows you to perform a cumulative computation on a sequence of elements. It applies a specified function to the elements of the sequence, reducing them to a single value.\n",
    "\n",
    "However, starting from Python 3, the reduce() function is no longer a built-in function, but it can be found in the functools module. Therefore, to use it, you need to import it"
   ]
  },
  {
   "cell_type": "code",
   "execution_count": 2,
   "metadata": {},
   "outputs": [],
   "source": [
    "#syntax:\n",
    "# reduce(function, sequence, initial=None)"
   ]
  },
  {
   "cell_type": "code",
   "execution_count": 4,
   "metadata": {},
   "outputs": [
    {
     "name": "stdout",
     "output_type": "stream",
     "text": [
      "120\n"
     ]
    }
   ],
   "source": [
    "from functools import reduce\n",
    "\n",
    "def multiply(x, y):\n",
    "    return x * y\n",
    "\n",
    "numbers = [1, 2, 3, 4, 5]\n",
    "\n",
    "product = reduce(multiply, numbers)\n",
    "\n",
    "print(product)  # Output: 120\n"
   ]
  },
  {
   "cell_type": "code",
   "execution_count": 5,
   "metadata": {},
   "outputs": [
    {
     "name": "stdout",
     "output_type": "stream",
     "text": [
      "1200\n"
     ]
    }
   ],
   "source": [
    "#using initial:\n",
    "initial = 10\n",
    "# it will work like this: 10*1*2*3*4*5\n",
    "product = reduce(multiply, numbers, initial)\n",
    "\n",
    "print(product)  # Output: 1200"
   ]
  },
  {
   "cell_type": "markdown",
   "metadata": {},
   "source": [
    "## List indexing"
   ]
  },
  {
   "cell_type": "code",
   "execution_count": 7,
   "metadata": {},
   "outputs": [
    {
     "data": {
      "text/plain": [
       "1"
      ]
     },
     "execution_count": 7,
     "metadata": {},
     "output_type": "execute_result"
    }
   ],
   "source": [
    "my_list = [1,2,3,4,5]\n",
    "my_list[0]"
   ]
  },
  {
   "cell_type": "code",
   "execution_count": 9,
   "metadata": {},
   "outputs": [
    {
     "data": {
      "text/plain": [
       "([1, 2, 3], [1, 2, 3])"
      ]
     },
     "execution_count": 9,
     "metadata": {},
     "output_type": "execute_result"
    }
   ],
   "source": [
    "my_list[0:3], my_list[:3]\n",
    "#same thing"
   ]
  },
  {
   "cell_type": "code",
   "execution_count": 11,
   "metadata": {},
   "outputs": [
    {
     "data": {
      "text/plain": [
       "5"
      ]
     },
     "execution_count": 11,
     "metadata": {},
     "output_type": "execute_result"
    }
   ],
   "source": [
    "my_list[-1] # gives last value of the list"
   ]
  },
  {
   "cell_type": "code",
   "execution_count": 13,
   "metadata": {},
   "outputs": [
    {
     "data": {
      "text/plain": [
       "[1, 2, 3]"
      ]
     },
     "execution_count": 13,
     "metadata": {},
     "output_type": "execute_result"
    }
   ],
   "source": [
    "my_list[:-2]\n",
    "# returns the list except that last two indices"
   ]
  },
  {
   "cell_type": "code",
   "execution_count": 15,
   "metadata": {},
   "outputs": [
    {
     "data": {
      "text/plain": [
       "[1, 2, 3, 4, 5]"
      ]
     },
     "execution_count": 15,
     "metadata": {},
     "output_type": "execute_result"
    }
   ],
   "source": [
    "my_list[:10]\n",
    "#doesn't throw index out of bounds"
   ]
  },
  {
   "attachments": {},
   "cell_type": "markdown",
   "metadata": {},
   "source": [
    "### List reversal"
   ]
  },
  {
   "cell_type": "code",
   "execution_count": 6,
   "metadata": {},
   "outputs": [
    {
     "data": {
      "text/plain": [
       "[5, 4, 3, 2, 1]"
      ]
     },
     "execution_count": 6,
     "metadata": {},
     "output_type": "execute_result"
    }
   ],
   "source": [
    "# in place\n",
    "my_list = [1,2,3,4,5]\n",
    "my_list.reverse()\n",
    "my_list\n",
    "# "
   ]
  },
  {
   "cell_type": "markdown",
   "metadata": {},
   "source": [
    "Note:  reverse() does not work with string"
   ]
  },
  {
   "cell_type": "code",
   "execution_count": 7,
   "metadata": {},
   "outputs": [
    {
     "data": {
      "text/plain": [
       "[1, 2, 3, 4, 5]"
      ]
     },
     "execution_count": 7,
     "metadata": {},
     "output_type": "execute_result"
    }
   ],
   "source": [
    "# new list object\n",
    "my_list[::-1]"
   ]
  },
  {
   "attachments": {},
   "cell_type": "markdown",
   "metadata": {},
   "source": [
    "### Lists vs Tuples"
   ]
  },
  {
   "cell_type": "code",
   "execution_count": 8,
   "metadata": {},
   "outputs": [],
   "source": [
    "# Lists:\n",
    "# 1. mutable\n",
    "# 2. flexible\n",
    "\n",
    "# Tuples:\n",
    "# 1. immutable\n",
    "# 2. better performance, require lessser memory"
   ]
  },
  {
   "attachments": {},
   "cell_type": "markdown",
   "metadata": {},
   "source": [
    "### List deduplication"
   ]
  },
  {
   "cell_type": "code",
   "execution_count": 10,
   "metadata": {},
   "outputs": [
    {
     "name": "stdout",
     "output_type": "stream",
     "text": [
      "[1, 2, 3, 4, 5]\n"
     ]
    }
   ],
   "source": [
    "# use sets, order not preserved, O(n)\n",
    "my_list = [1, 2, 3, 2, 4, 1, 5, 3]\n",
    "deduplicated_list = list(set(my_list))\n",
    "print(deduplicated_list)"
   ]
  },
  {
   "cell_type": "code",
   "execution_count": 1,
   "metadata": {},
   "outputs": [
    {
     "name": "stdout",
     "output_type": "stream",
     "text": [
      "[1, 2, 3, 4, 5]\n"
     ]
    }
   ],
   "source": [
    "# use dict.fromkeys(), order is preserved, O(n)\n",
    "my_list = [1, 2, 3, 2, 4, 1, 5, 3]\n",
    "dict.fromkeys(my_list)\n",
    "deduplicated_list = list(dict.fromkeys(my_list))\n",
    "print(deduplicated_list)"
   ]
  },
  {
   "cell_type": "code",
   "execution_count": 4,
   "metadata": {},
   "outputs": [
    {
     "data": {
      "text/plain": [
       "{1: None, 2: None, 3: None, 4: None, 5: None}"
      ]
     },
     "execution_count": 4,
     "metadata": {},
     "output_type": "execute_result"
    }
   ],
   "source": [
    "dict.fromkeys(my_list)"
   ]
  },
  {
   "cell_type": "markdown",
   "metadata": {},
   "source": [
    "## String manipulation"
   ]
  },
  {
   "cell_type": "markdown",
   "metadata": {},
   "source": [
    "1. **Reverse a String:**\n",
    "   - **Question:** Write a Python function to reverse a given string."
   ]
  },
  {
   "cell_type": "code",
   "execution_count": 1,
   "metadata": {},
   "outputs": [
    {
     "data": {
      "text/plain": [
       "'dlrow olleh'"
      ]
     },
     "execution_count": 1,
     "metadata": {},
     "output_type": "execute_result"
    }
   ],
   "source": [
    "str = \"hello world\"\n",
    "str[::-1]"
   ]
  },
  {
   "cell_type": "code",
   "execution_count": 8,
   "metadata": {},
   "outputs": [
    {
     "data": {
      "text/plain": [
       "(11, 'hello world')"
      ]
     },
     "execution_count": 8,
     "metadata": {},
     "output_type": "execute_result"
    }
   ],
   "source": [
    "len(str), str[:20]# doesn't give index out of bounds error"
   ]
  },
  {
   "cell_type": "markdown",
   "metadata": {},
   "source": [
    "2. **Check for Palindrome:**\n",
    "   - **Question:** Write a Python function to check if a given string is a palindrome (reads the same forwards and backward)."
   ]
  },
  {
   "cell_type": "code",
   "execution_count": 11,
   "metadata": {},
   "outputs": [
    {
     "data": {
      "text/plain": [
       "False"
      ]
     },
     "execution_count": 11,
     "metadata": {},
     "output_type": "execute_result"
    }
   ],
   "source": [
    "str = \"applelppa\"\n",
    "str == str[::-1]"
   ]
  },
  {
   "cell_type": "markdown",
   "metadata": {},
   "source": [
    "3. **Count Vowels and Consonants:**\n",
    "   - **Question:** Write a Python program that counts the number of vowels and consonants in a string."
   ]
  },
  {
   "cell_type": "code",
   "execution_count": 15,
   "metadata": {},
   "outputs": [
    {
     "data": {
      "text/plain": [
       "(7, 3)"
      ]
     },
     "execution_count": 15,
     "metadata": {},
     "output_type": "execute_result"
    }
   ],
   "source": [
    "str = \"hello world!!\"\n",
    "vowset = set([\"a\",\"e\",\"i\",\"o\",\"u\"])\n",
    "const, vowel= 0, 0\n",
    "for item in str:\n",
    "    if item in vowset:\n",
    "        vowel+=1\n",
    "    elif item.isalpha():\n",
    "        const+=1\n",
    "\n",
    "const, vowel"
   ]
  },
  {
   "cell_type": "code",
   "execution_count": 16,
   "metadata": {},
   "outputs": [
    {
     "data": {
      "text/plain": [
       "['a', 'b']"
      ]
     },
     "execution_count": 16,
     "metadata": {},
     "output_type": "execute_result"
    }
   ],
   "source": [
    "lst = ['a','b', 'c'] # removes last in index. in place operation\n",
    "lst.pop()\n",
    "lst"
   ]
  },
  {
   "cell_type": "markdown",
   "metadata": {},
   "source": [
    "4. **Remove Duplicates:**\n",
    "   - **Question:** Write a Python function to remove duplicate characters from a string."
   ]
  },
  {
   "cell_type": "code",
   "execution_count": 17,
   "metadata": {},
   "outputs": [],
   "source": [
    "### Approach 1: \n",
    "# convert str to list\n",
    "# apply set() or dict.fromkeys"
   ]
  },
  {
   "cell_type": "code",
   "execution_count": 20,
   "metadata": {},
   "outputs": [
    {
     "name": "stdout",
     "output_type": "stream",
     "text": [
      "helor\n"
     ]
    }
   ],
   "source": [
    "### Approach 2: \n",
    "def remove_duplicates(input_string):\n",
    "    # Create an empty set to store unique characters\n",
    "    unique_chars = set()\n",
    "    \n",
    "    # Initialize an empty string to store the result\n",
    "    result = \"\"\n",
    "    \n",
    "    # Iterate through the input string\n",
    "    for char in input_string:\n",
    "        # Check if the character is not in the set of unique characters\n",
    "        if char not in unique_chars:\n",
    "            # Add it to the result and the set\n",
    "            result += char\n",
    "            unique_chars.add(char)\n",
    "    \n",
    "    return result\n",
    "\n",
    "# Test the function\n",
    "input_string = \"hellooeeer\"\n",
    "result = remove_duplicates(input_string)\n",
    "print(result)  # Output: \"helo\"\n"
   ]
  },
  {
   "cell_type": "markdown",
   "metadata": {},
   "source": [
    "\n",
    "5. **Anagram Check:**\n",
    "   - **Question:** Write a Python function to check if two strings are anagrams of each other.\n"
   ]
  },
  {
   "cell_type": "code",
   "execution_count": 25,
   "metadata": {},
   "outputs": [
    {
     "data": {
      "text/plain": [
       "True"
      ]
     },
     "execution_count": 25,
     "metadata": {},
     "output_type": "execute_result"
    }
   ],
   "source": [
    "str1 = \"listen\"\n",
    "str2 = \"silent\"\n",
    "sorted(str1.lower())== sorted(str2.lower())\n",
    "# sorted sorts and returns a new string/list "
   ]
  },
  {
   "cell_type": "markdown",
   "metadata": {},
   "source": [
    "\n",
    "6. **String Compression:**\n",
    "   - **Question:** Implement a Python function that performs basic string compression. For example, \"aabcccccaaa\" would become \"a2b1c5a3.\""
   ]
  },
  {
   "cell_type": "code",
   "execution_count": 2,
   "metadata": {},
   "outputs": [
    {
     "name": "stdout",
     "output_type": "stream",
     "text": [
      "a2b1c5a3e1\n"
     ]
    }
   ],
   "source": [
    "def compress_string(s):\n",
    "    if not s:\n",
    "        return s\n",
    "\n",
    "    compressed = []\n",
    "    count = 1\n",
    "\n",
    "    for i in range(1, len(s)):\n",
    "        if s[i] == s[i - 1]:\n",
    "            count += 1\n",
    "        else:\n",
    "            compressed.append(s[i - 1] + str(count))\n",
    "            count = 1\n",
    "\n",
    "    compressed.append(s[-1] + str(count))\n",
    "\n",
    "    compressed_str = ''.join(compressed)\n",
    "\n",
    "    return compressed_str if len(compressed_str) < len(s) else s\n",
    "\n",
    "# Test the function\n",
    "input_str = \"aabcccccaaae\"\n",
    "compressed_result = compress_string(input_str)\n",
    "print(compressed_result)\n"
   ]
  },
  {
   "cell_type": "code",
   "execution_count": 10,
   "metadata": {},
   "outputs": [
    {
     "data": {
      "text/plain": [
       "'ab'"
      ]
     },
     "execution_count": 10,
     "metadata": {},
     "output_type": "execute_result"
    }
   ],
   "source": [
    "s= \"ab\"\n",
    "\n",
    "count = 1\n",
    "result = \"\"\n",
    "if len(s)==1:\n",
    "    result= s\n",
    "else:\n",
    "    for i in range(1, len(s)):\n",
    "        if s[i]==s[i-1]:\n",
    "            count+=1\n",
    "        else:\n",
    "            result = result + s[i-1] +str(count)\n",
    "            count=1\n",
    "\n",
    "    result = result + s[i] + str(count)\n",
    "result = s if len(result) > len(s) else result\n",
    "\n",
    "result"
   ]
  },
  {
   "cell_type": "markdown",
   "metadata": {},
   "source": [
    "7. **String Rotation Check:**\n",
    "   - **Question:** Write a Python function to check if one string is a rotation of another string. For example, \"waterbottle\" is a rotation of \"erbottlewat.\""
   ]
  },
  {
   "cell_type": "code",
   "execution_count": 12,
   "metadata": {},
   "outputs": [
    {
     "data": {
      "text/plain": [
       "False"
      ]
     },
     "execution_count": 12,
     "metadata": {},
     "output_type": "execute_result"
    }
   ],
   "source": [
    "s1 = \"waterbottle\"\n",
    "s2 = \"erbottlewatxx\"\n",
    "ss = s1+s1\n",
    "out = s2 in ss\n",
    "out"
   ]
  },
  {
   "cell_type": "markdown",
   "metadata": {},
   "source": [
    "8. **Find Longest Substring Without Repeating Characters:**\n",
    "   - **Question:** Write a Python function that finds the length of the longest substring without repeating characters in a given string.\n"
   ]
  },
  {
   "cell_type": "code",
   "execution_count": null,
   "metadata": {},
   "outputs": [],
   "source": []
  },
  {
   "cell_type": "markdown",
   "metadata": {},
   "source": [
    "9. **String to Integer (atoi):**\n",
    "   - **Question:** Implement the `atoi` function, which converts a string to an integer in Python.\n",
    "\n",
    "These string manipulation questions cover various aspects of working with strings in Python and are commonly asked in interviews. Practice them to improve your string manipulation skills for interviews."
   ]
  },
  {
   "cell_type": "markdown",
   "metadata": {},
   "source": [
    "\n",
    "10. **Word Reversal in a Sentence:**\n",
    "    - **Question:** Write a Python function to reverse the words in a sentence while preserving the order of words.\n"
   ]
  },
  {
   "cell_type": "code",
   "execution_count": 15,
   "metadata": {},
   "outputs": [
    {
     "data": {
      "text/plain": [
       "'fdsa rewr vvfr oko'"
      ]
     },
     "execution_count": 15,
     "metadata": {},
     "output_type": "execute_result"
    }
   ],
   "source": [
    "s = \"asdf rwer rfvv oko\"\n",
    "sl = s.split(\" \")\n",
    "sl\n",
    "rsl = list(map(lambda x: x[::-1], sl))\n",
    "rsl\n",
    "\" \".join(rsl)"
   ]
  },
  {
   "cell_type": "code",
   "execution_count": null,
   "metadata": {},
   "outputs": [],
   "source": []
  }
 ],
 "metadata": {
  "kernelspec": {
   "display_name": "pythonprep",
   "language": "python",
   "name": "python3"
  },
  "language_info": {
   "codemirror_mode": {
    "name": "ipython",
    "version": 3
   },
   "file_extension": ".py",
   "mimetype": "text/x-python",
   "name": "python",
   "nbconvert_exporter": "python",
   "pygments_lexer": "ipython3",
   "version": "3.7.10"
  },
  "orig_nbformat": 4
 },
 "nbformat": 4,
 "nbformat_minor": 2
}
