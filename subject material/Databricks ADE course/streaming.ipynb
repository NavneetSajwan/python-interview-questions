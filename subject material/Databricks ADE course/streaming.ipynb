{
 "cells": [
  {
   "cell_type": "markdown",
   "metadata": {},
   "source": [
    "### Streaming Data:\n",
    "\n",
    "- continuos and unbounded data\n",
    "\n",
    "#### Use case:\n",
    "- notifications\n",
    "- real time reporting\n",
    "- incremental etl\n",
    "- update data to serve in real-time\n",
    "- real-time decision making\n",
    "- online  ML"
   ]
  },
  {
   "cell_type": "markdown",
   "metadata": {},
   "source": [
    "- cdc?, click streams, events, logs, iot devices\n"
   ]
  },
  {
   "cell_type": "markdown",
   "metadata": {},
   "source": [
    "### Strctured streaming:\n",
    "\n",
    "- stream processing engine\n",
    "- how does it work?\n",
    "    - micr-batching\n",
    "    - continuos execution"
   ]
  },
  {
   "cell_type": "code",
   "execution_count": null,
   "metadata": {},
   "outputs": [],
   "source": []
  }
 ],
 "metadata": {
  "kernelspec": {
   "display_name": "poc2",
   "language": "python",
   "name": "python3"
  },
  "language_info": {
   "name": "python",
   "version": "3.7.10"
  }
 },
 "nbformat": 4,
 "nbformat_minor": 2
}
