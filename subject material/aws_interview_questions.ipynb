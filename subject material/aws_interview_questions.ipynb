{
 "cells": [
  {
   "cell_type": "markdown",
   "metadata": {},
   "source": [
    "### What  is aws glue?\n",
    "\n",
    "AWS Glue is a fully managed ETL (extract, transform, load) service by Amazon Web Services. It automates data preparation tasks, offers a visual or code-based job authoring interface, leverages Apache Spark for transformations, and integrates seamlessly with other AWS services. It's a serverless solution, simplifying ETL workflows and enabling users to focus on data analysis rather than managing infrastructure."
   ]
  },
  {
   "cell_type": "markdown",
   "metadata": {},
   "source": [
    "## What is AWS athena?\n",
    "\n",
    "- Serverless query service managed by aws\n",
    "- It uses presto in the background"
   ]
  },
  {
   "cell_type": "markdown",
   "metadata": {},
   "source": []
  }
 ],
 "metadata": {
  "language_info": {
   "name": "python"
  }
 },
 "nbformat": 4,
 "nbformat_minor": 2
}
