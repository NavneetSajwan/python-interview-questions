{
 "cells": [
  {
   "cell_type": "markdown",
   "metadata": {},
   "source": [
    "#### What is an instance profile in databricks?\n",
    "\n",
    "An instance profile in Databricks is a configuration that defines the set of AWS (Amazon Web Services) permissions and access rights that are associated with a Databricks cluster. It specifies the AWS Identity and Access Management (IAM) role that should be assumed by the Databricks cluster instances. This allows the cluster to access AWS services and resources securely without the need to store AWS credentials directly on the cluster."
   ]
  },
  {
   "cell_type": "markdown",
   "metadata": {},
   "source": [
    "#### Difference bw nodes, workers and cores?\n",
    "\n",
    "All nodes are cpu instances. A worker is a type of node. And each worker can have multiple cores. No. of cores decide teh level of parallelism offered by the worker"
   ]
  },
  {
   "cell_type": "markdown",
   "metadata": {},
   "source": [
    "join_type\n",
    "\n",
    "The join-type.\n",
    "\n",
    "[ INNER ]\n",
    "\n",
    "Returns the rows that have matching values in both table references. The default join-type.\n",
    "\n",
    "LEFT [ OUTER ]\n",
    "\n",
    "Returns all values from the left table reference and the matched values from the right table reference, or appends NULL if there is no match. It is also referred to as a left outer join.\n",
    "\n",
    "RIGHT [ OUTER ]\n",
    "\n",
    "Returns all values from the right table reference and the matched values from the left table reference, or appends NULL if there is no match. It is also referred to as a right outer join.\n",
    "\n",
    "FULL [OUTER]\n",
    "\n",
    "Returns all values from both relations, appending NULL values on the side that does not have a match. It is also referred to as a full outer join.\n",
    "\n",
    "[ LEFT ] SEMI\n",
    "\n",
    "Returns values from the left side of the table reference that has a match with the right. It is also referred to as a left semi join.\n",
    "\n",
    "[ LEFT ] ANTI\n",
    "\n",
    "Returns the values from the left table reference that have no match with the right table reference. It is also referred to as a left anti join.\n",
    "\n",
    "CROSS JOIN\n",
    "\n",
    "Returns the Cartesian product of two relations.\n",
    "\n"
   ]
  },
  {
   "cell_type": "code",
   "execution_count": null,
   "metadata": {},
   "outputs": [],
   "source": []
  }
 ],
 "metadata": {
  "language_info": {
   "name": "python"
  },
  "orig_nbformat": 4
 },
 "nbformat": 4,
 "nbformat_minor": 2
}
