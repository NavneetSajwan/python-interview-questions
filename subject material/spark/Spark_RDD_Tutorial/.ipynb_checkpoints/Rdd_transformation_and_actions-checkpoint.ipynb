{
 "cells": [
  {
   "cell_type": "markdown",
   "id": "68795e92-0ac4-4e46-8516-bde503c04994",
   "metadata": {},
   "source": [
    "## Spark RDD Transformation & Actions"
   ]
  },
  {
   "cell_type": "code",
   "execution_count": 40,
   "id": "0e3b9606-c745-4c57-bb89-7482e3817c8d",
   "metadata": {},
   "outputs": [
    {
     "data": {
      "text/html": [
       "\n",
       "            <div>\n",
       "                <p><b>SparkSession - in-memory</b></p>\n",
       "                \n",
       "        <div>\n",
       "            <p><b>SparkContext</b></p>\n",
       "\n",
       "            <p><a href=\"http://worker01:4040\">Spark UI</a></p>\n",
       "\n",
       "            <dl>\n",
       "              <dt>Version</dt>\n",
       "                <dd><code>v3.2.0</code></dd>\n",
       "              <dt>Master</dt>\n",
       "                <dd><code>local[5]</code></dd>\n",
       "              <dt>AppName</dt>\n",
       "                <dd><code>rdd tutorial</code></dd>\n",
       "            </dl>\n",
       "        </div>\n",
       "        \n",
       "            </div>\n",
       "        "
      ],
      "text/plain": [
       "<pyspark.sql.session.SparkSession at 0x7f29597e2490>"
      ]
     },
     "execution_count": 40,
     "metadata": {},
     "output_type": "execute_result"
    }
   ],
   "source": [
    "spark"
   ]
  },
  {
   "cell_type": "code",
   "execution_count": null,
   "id": "34061ed1-b3df-4b32-8953-daa3fde89912",
   "metadata": {},
   "outputs": [],
   "source": []
  },
  {
   "cell_type": "markdown",
   "id": "1dfb6c5e-6229-4534-a412-aa3a2262845a",
   "metadata": {},
   "source": [
    "### filter(),map(),FlatMap(),fold(),aggregate(),reduce(),reduceByKey(),sortbyKey()"
   ]
  },
  {
   "cell_type": "code",
   "execution_count": 41,
   "id": "b70e52e3-7cde-4462-a8e5-d59fed3694ce",
   "metadata": {},
   "outputs": [],
   "source": [
    "\n",
    "##flatMap()"
   ]
  },
  {
   "cell_type": "code",
   "execution_count": 49,
   "id": "d0792c63-6db0-48f7-acba-91ca400cd5d4",
   "metadata": {},
   "outputs": [],
   "source": [
    "rdd = spark.sparkContext.textFile(\"../data/data.txt\")"
   ]
  },
  {
   "cell_type": "code",
   "execution_count": 51,
   "id": "75796c10-70c6-47db-8150-29562400df96",
   "metadata": {},
   "outputs": [
    {
     "data": {
      "text/plain": [
       "['Project Gutenberg’s',\n",
       " 'Alice’s Adventures in Wonderland',\n",
       " 'Project Gutenberg’s',\n",
       " 'Adventures in Wonderland',\n",
       " 'Project Gutenberg’s']"
      ]
     },
     "execution_count": 51,
     "metadata": {},
     "output_type": "execute_result"
    }
   ],
   "source": [
    "rdd.collect()"
   ]
  },
  {
   "cell_type": "code",
   "execution_count": 56,
   "id": "aaaf9d49-10f5-4450-9d68-fff0c36957dd",
   "metadata": {},
   "outputs": [
    {
     "data": {
      "text/plain": [
       "['Project',\n",
       " 'Gutenberg’s',\n",
       " 'Alice’s',\n",
       " 'Adventures',\n",
       " 'in',\n",
       " 'Wonderland',\n",
       " 'Project',\n",
       " 'Gutenberg’s',\n",
       " 'Adventures',\n",
       " 'in',\n",
       " 'Wonderland',\n",
       " 'Project',\n",
       " 'Gutenberg’s']"
      ]
     },
     "execution_count": 56,
     "metadata": {},
     "output_type": "execute_result"
    }
   ],
   "source": [
    "#flatten all the data\n",
    "rdd2=rdd.flatMap(lambda x:x.split(\" \"))\n",
    "rdd2.collect()"
   ]
  },
  {
   "cell_type": "code",
   "execution_count": 84,
   "id": "8df6a663-43d5-46b1-b135-b09b8981d3a4",
   "metadata": {},
   "outputs": [
    {
     "data": {
      "text/plain": [
       "[('Project', 1),\n",
       " ('Gutenberg’s', 1),\n",
       " ('Alice’s', 1),\n",
       " ('Adventures', 1),\n",
       " ('in', 1),\n",
       " ('Wonderland', 1),\n",
       " ('Project', 1),\n",
       " ('Gutenberg’s', 1),\n",
       " ('Adventures', 1),\n",
       " ('in', 1),\n",
       " ('Wonderland', 1),\n",
       " ('Project', 1),\n",
       " ('Gutenberg’s', 1)]"
      ]
     },
     "execution_count": 84,
     "metadata": {},
     "output_type": "execute_result"
    }
   ],
   "source": [
    "# maping value by one\n",
    "rdd3=rdd2.map(lambda x:(x,1))\n",
    "rdd3.collect()"
   ]
  },
  {
   "cell_type": "code",
   "execution_count": 85,
   "id": "26deaccd-5749-4d1e-be2a-f4d9cfa97d79",
   "metadata": {},
   "outputs": [
    {
     "data": {
      "text/plain": [
       "[('Project', 3),\n",
       " ('Gutenberg’s', 3),\n",
       " ('Alice’s', 1),\n",
       " ('in', 2),\n",
       " ('Adventures', 2),\n",
       " ('Wonderland', 2)]"
      ]
     },
     "execution_count": 85,
     "metadata": {},
     "output_type": "execute_result"
    }
   ],
   "source": [
    "# now perform countByValue,reduceByKey,reduce\n",
    "\"\"\"\n",
    "count unique word\n",
    "\"\"\"\n",
    "rdd3.reduceByKey(lambda x,y:x+y).collect()"
   ]
  },
  {
   "cell_type": "code",
   "execution_count": 82,
   "id": "38a99e8c-dd58-431a-b29d-43a2fc51aaaa",
   "metadata": {},
   "outputs": [
    {
     "data": {
      "text/plain": [
       "['Alice’s', 'Adventures', 'Adventures']"
      ]
     },
     "execution_count": 82,
     "metadata": {},
     "output_type": "execute_result"
    }
   ],
   "source": [
    "\"\"\"\n",
    "find word which starting substr \"A\"\n",
    "\"\"\"\n",
    "rdd4=rdd2.filter(lambda x:x.startswith(\"A\"))\n",
    "rdd4.collect()"
   ]
  },
  {
   "cell_type": "code",
   "execution_count": 86,
   "id": "7ae539a4-2a08-4e3e-b816-ab088ba4418f",
   "metadata": {},
   "outputs": [
    {
     "data": {
      "text/plain": [
       "[('Adventures', 2),\n",
       " ('Alice’s', 1),\n",
       " ('Gutenberg’s', 3),\n",
       " ('Project', 3),\n",
       " ('Wonderland', 2),\n",
       " ('in', 2)]"
      ]
     },
     "execution_count": 86,
     "metadata": {},
     "output_type": "execute_result"
    }
   ],
   "source": [
    "\"\"\"\n",
    "sortByKey()\n",
    "\"\"\"\n",
    "rdd3.reduceByKey(lambda x,y:x+y).sortByKey().collect()"
   ]
  },
  {
   "cell_type": "code",
   "execution_count": 107,
   "id": "6208b77b-6a61-44a5-be6b-4e8f75767f02",
   "metadata": {},
   "outputs": [
    {
     "data": {
      "text/plain": [
       "defaultdict(int, {1: 2, 3: 2, 7: 1, 11: 1})"
      ]
     },
     "execution_count": 107,
     "metadata": {},
     "output_type": "execute_result"
    }
   ],
   "source": [
    "\"\"\"\n",
    "countByValue()\n",
    "\"\"\"\n",
    "rdd = sc.parallelize([1,3,1,7,3,11], 2)\n",
    "rdd.countByValue()"
   ]
  },
  {
   "cell_type": "code",
   "execution_count": null,
   "id": "b2e8bb8a-6223-4a0b-ac3b-3418b21b1856",
   "metadata": {},
   "outputs": [],
   "source": []
  },
  {
   "cell_type": "markdown",
   "id": "ef29820c-c7cb-48b7-9a44-9e594f3c579d",
   "metadata": {},
   "source": [
    "## --------------------------------------------------------\n",
    "## Prototype:\n",
    "\n",
    "    aggregate(zeroValue, seqOp, combOp)\n",
    "\n",
    "## Description:\n",
    "\n",
    "    aggregate() lets you take an RDD and generate a single value that is of a different type than what was stored in the original RDD.\n",
    "\n",
    "Parameters:\n",
    "\n",
    "    zeroValue: The initialization value, for your result, in the desired format.\n",
    "    seqOp: The operation you want to apply to RDD records. Runs once for every record in a partition.\n",
    "    combOp: Defines how the resulted objects (one for every partition), gets combined.\n",
    "    Example:\n",
    "\n",
    "Compute the sum of a list and the length of that list. Return the result in a pair of (sum, length).\n",
    "\n",
    "    In a Spark shell, I first created a list with 4 elements, with 2 partitions:\n",
    "\n"
   ]
  },
  {
   "cell_type": "code",
   "execution_count": 101,
   "id": "e4b8410d-7b19-4788-8e39-ab47072194db",
   "metadata": {},
   "outputs": [],
   "source": [
    "\n",
    "# listRDD = sc.parallelize([1,2,3,4], 2)\n",
    "listRDD = sc.parallelize([1,3,5,7,9,11], 2)"
   ]
  },
  {
   "cell_type": "code",
   "execution_count": 102,
   "id": "bba56aa5-c5ff-4787-a0f3-7335352778c3",
   "metadata": {},
   "outputs": [],
   "source": [
    "# then I defined my seqOp:\n",
    "seqOp = (lambda local_result, list_element: (local_result[0] + list_element, local_result[1] + 1) )\n"
   ]
  },
  {
   "cell_type": "code",
   "execution_count": 103,
   "id": "89373c91-32f0-40a9-bebe-500e13f20215",
   "metadata": {},
   "outputs": [],
   "source": [
    "# and my combOp:\n",
    "\n",
    "combOp = (lambda some_local_result, another_local_result: (some_local_result[0] + another_local_result[0], some_local_result[1] + another_local_result[1]) )"
   ]
  },
  {
   "cell_type": "code",
   "execution_count": 104,
   "id": "a9525964-9350-44e8-a5c8-3845f7129808",
   "metadata": {},
   "outputs": [
    {
     "data": {
      "text/plain": [
       "(36, 6)"
      ]
     },
     "execution_count": 104,
     "metadata": {},
     "output_type": "execute_result"
    }
   ],
   "source": [
    "listRDD.aggregate( (0, 0), seqOp, combOp)"
   ]
  },
  {
   "cell_type": "markdown",
   "id": "c3187349-d237-4277-833c-9566c1377a44",
   "metadata": {},
   "source": [
    "<img src=\"https://i.stack.imgur.com/Sbk4V.png\">"
   ]
  },
  {
   "cell_type": "code",
   "execution_count": 100,
   "id": "857dae67-8552-4e15-a4d5-518efcf84905",
   "metadata": {},
   "outputs": [
    {
     "data": {
      "text/plain": [
       "'\\n            (0, 0) <-- zeroValue\\n\\n[1, 2]                  [3, 4]\\n\\n0 + 1 = 1               0 + 3 = 3\\n0 + 1 = 1               0 + 1 = 1\\n\\n1 + 2 = 3               3 + 4 = 7\\n1 + 1 = 2               1 + 1 = 2       \\n    |                       |\\n    v                       v\\n  (3, 2)                  (7, 2)\\n      \\\\                    / \\n       \\\\                  /\\n        \\\\                /\\n         \\\\              /\\n          \\\\            /\\n           \\\\          / \\n           ------------\\n           |  combOp  |\\n           ------------\\n                |\\n                v\\n             (10, 4)\\n'"
      ]
     },
     "execution_count": 100,
     "metadata": {},
     "output_type": "execute_result"
    }
   ],
   "source": [
    "# example described in 'figure':\n",
    "\n",
    "\"\"\"\n",
    "            (0, 0) <-- zeroValue\n",
    "\n",
    "[1, 2]                  [3, 4]\n",
    "\n",
    "0 + 1 = 1               0 + 3 = 3\n",
    "0 + 1 = 1               0 + 1 = 1\n",
    "\n",
    "1 + 2 = 3               3 + 4 = 7\n",
    "1 + 1 = 2               1 + 1 = 2       \n",
    "    |                       |\n",
    "    v                       v\n",
    "  (3, 2)                  (7, 2)\n",
    "      \\                    / \n",
    "       \\                  /\n",
    "        \\                /\n",
    "         \\              /\n",
    "          \\            /\n",
    "           \\          / \n",
    "           ------------\n",
    "           |  combOp  |\n",
    "           ------------\n",
    "                |\n",
    "                v\n",
    "             (10, 4)\n",
    "\"\"\""
   ]
  },
  {
   "cell_type": "code",
   "execution_count": null,
   "id": "bc137d21-39fe-4955-b19f-122fbdd25694",
   "metadata": {},
   "outputs": [],
   "source": []
  }
 ],
 "metadata": {
  "kernelspec": {
   "display_name": "Python 3 (ipykernel)",
   "language": "python",
   "name": "python3"
  },
  "language_info": {
   "codemirror_mode": {
    "name": "ipython",
    "version": 3
   },
   "file_extension": ".py",
   "mimetype": "text/x-python",
   "name": "python",
   "nbconvert_exporter": "python",
   "pygments_lexer": "ipython3",
   "version": "3.9.7"
  }
 },
 "nbformat": 4,
 "nbformat_minor": 5
}
