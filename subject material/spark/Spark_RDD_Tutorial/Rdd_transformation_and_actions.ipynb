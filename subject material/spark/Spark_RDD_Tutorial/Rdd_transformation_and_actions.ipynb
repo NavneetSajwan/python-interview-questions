{
 "cells": [
  {
   "cell_type": "markdown",
   "id": "68795e92-0ac4-4e46-8516-bde503c04994",
   "metadata": {},
   "source": [
    "## Spark RDD Transformation & Actions"
   ]
  },
  {
   "cell_type": "code",
   "execution_count": 1,
   "id": "0e3b9606-c745-4c57-bb89-7482e3817c8d",
   "metadata": {},
   "outputs": [
    {
     "name": "stderr",
     "output_type": "stream",
     "text": [
      "Warning: Ignoring non-Spark config property: inferSchema\n",
      "24/01/12 16:22:14 WARN Utils: Your hostname, navneetsajwan-ThinkPad-L480 resolves to a loopback address: 127.0.1.1; using 192.168.0.149 instead (on interface enp0s31f6)\n",
      "24/01/12 16:22:14 WARN Utils: Set SPARK_LOCAL_IP if you need to bind to another address\n",
      "WARNING: An illegal reflective access operation has occurred\n",
      "WARNING: Illegal reflective access by org.apache.spark.unsafe.Platform (file:/home/navneetsajwan/miniconda3/envs/spark/lib/python3.8/site-packages/pyspark/jars/spark-unsafe_2.12-3.2.1.jar) to constructor java.nio.DirectByteBuffer(long,int)\n",
      "WARNING: Please consider reporting this to the maintainers of org.apache.spark.unsafe.Platform\n",
      "WARNING: Use --illegal-access=warn to enable warnings of further illegal reflective access operations\n",
      "WARNING: All illegal access operations will be denied in a future release\n",
      "Using Spark's default log4j profile: org/apache/spark/log4j-defaults.properties\n",
      "Setting default log level to \"WARN\".\n",
      "To adjust logging level use sc.setLogLevel(newLevel). For SparkR, use setLogLevel(newLevel).\n",
      "24/01/12 16:22:17 WARN NativeCodeLoader: Unable to load native-hadoop library for your platform... using builtin-java classes where applicable\n",
      "24/01/12 16:22:21 WARN Utils: Service 'SparkUI' could not bind on port 4040. Attempting port 4041.\n"
     ]
    }
   ],
   "source": [
    "from pyspark.sql import SparkSession\n",
    "\n",
    "spark=SparkSession. \\\n",
    "        builder. \\\n",
    "        master(\"local[5]\"). \\\n",
    "        appName(\"rdd tutorial\"). \\\n",
    "        config(\"inferSchema\" , \"True\"). \\\n",
    "        getOrCreate()\n",
    "\n",
    "# spark.conf.set(\"spark.sql.shuffle.partitions\", \"1000\")\n",
    "# spark.conf.set(\"spark.default.parallelism\", \"1000\")"
   ]
  },
  {
   "cell_type": "markdown",
   "id": "1dfb6c5e-6229-4534-a412-aa3a2262845a",
   "metadata": {},
   "source": [
    "### filter(),map(),FlatMap(),fold(),aggregate(),reduce(),reduceByKey(),sortbyKey()"
   ]
  },
  {
   "cell_type": "code",
   "execution_count": 2,
   "id": "d0792c63-6db0-48f7-acba-91ca400cd5d4",
   "metadata": {},
   "outputs": [],
   "source": [
    "rdd = spark.sparkContext.textFile(\"../data/data.txt\")"
   ]
  },
  {
   "cell_type": "code",
   "execution_count": 3,
   "id": "75796c10-70c6-47db-8150-29562400df96",
   "metadata": {},
   "outputs": [
    {
     "name": "stderr",
     "output_type": "stream",
     "text": [
      "                                                                                \r"
     ]
    },
    {
     "data": {
      "text/plain": [
       "['Project Gutenberg’s',\n",
       " 'Alice’s Adventures in Wonderland',\n",
       " 'Project Gutenberg’s',\n",
       " 'Adventures in Wonderland',\n",
       " 'Project Gutenberg’s']"
      ]
     },
     "execution_count": 3,
     "metadata": {},
     "output_type": "execute_result"
    }
   ],
   "source": [
    "rdd.collect()"
   ]
  },
  {
   "cell_type": "code",
   "execution_count": 4,
   "id": "aaaf9d49-10f5-4450-9d68-fff0c36957dd",
   "metadata": {},
   "outputs": [
    {
     "name": "stderr",
     "output_type": "stream",
     "text": [
      "                                                                                \r"
     ]
    },
    {
     "data": {
      "text/plain": [
       "['Project',\n",
       " 'Gutenberg’s',\n",
       " 'Alice’s',\n",
       " 'Adventures',\n",
       " 'in',\n",
       " 'Wonderland',\n",
       " 'Project',\n",
       " 'Gutenberg’s',\n",
       " 'Adventures',\n",
       " 'in',\n",
       " 'Wonderland',\n",
       " 'Project',\n",
       " 'Gutenberg’s']"
      ]
     },
     "execution_count": 4,
     "metadata": {},
     "output_type": "execute_result"
    }
   ],
   "source": [
    "#flatten all the data\n",
    "rdd2=rdd.flatMap(lambda x:x.split(\" \"))\n",
    "rdd2.collect()"
   ]
  },
  {
   "cell_type": "code",
   "execution_count": 5,
   "id": "8df6a663-43d5-46b1-b135-b09b8981d3a4",
   "metadata": {},
   "outputs": [
    {
     "data": {
      "text/plain": [
       "[('Project', 1),\n",
       " ('Gutenberg’s', 1),\n",
       " ('Alice’s', 1),\n",
       " ('Adventures', 1),\n",
       " ('in', 1),\n",
       " ('Wonderland', 1),\n",
       " ('Project', 1),\n",
       " ('Gutenberg’s', 1),\n",
       " ('Adventures', 1),\n",
       " ('in', 1),\n",
       " ('Wonderland', 1),\n",
       " ('Project', 1),\n",
       " ('Gutenberg’s', 1)]"
      ]
     },
     "execution_count": 5,
     "metadata": {},
     "output_type": "execute_result"
    }
   ],
   "source": [
    "# maping value by one\n",
    "rdd3=rdd2.map(lambda x:(x,1))\n",
    "rdd3.collect()"
   ]
  },
  {
   "cell_type": "code",
   "execution_count": 6,
   "id": "26deaccd-5749-4d1e-be2a-f4d9cfa97d79",
   "metadata": {},
   "outputs": [
    {
     "name": "stderr",
     "output_type": "stream",
     "text": [
      "                                                                                \r"
     ]
    },
    {
     "data": {
      "text/plain": [
       "[('Project', 3),\n",
       " ('Gutenberg’s', 3),\n",
       " ('Alice’s', 1),\n",
       " ('in', 2),\n",
       " ('Adventures', 2),\n",
       " ('Wonderland', 2)]"
      ]
     },
     "execution_count": 6,
     "metadata": {},
     "output_type": "execute_result"
    }
   ],
   "source": [
    "# now perform countByValue,reduceByKey,reduce\n",
    "\"\"\"\n",
    "count unique word\n",
    "\"\"\"\n",
    "rdd3.reduceByKey(lambda x,y:x+y).collect()"
   ]
  },
  {
   "cell_type": "code",
   "execution_count": 7,
   "id": "38a99e8c-dd58-431a-b29d-43a2fc51aaaa",
   "metadata": {},
   "outputs": [
    {
     "data": {
      "text/plain": [
       "['Alice’s', 'Adventures', 'Adventures']"
      ]
     },
     "execution_count": 7,
     "metadata": {},
     "output_type": "execute_result"
    }
   ],
   "source": [
    "\"\"\"\n",
    "find word which starting substr \"A\"\n",
    "\"\"\"\n",
    "rdd4=rdd2.filter(lambda x:x.startswith(\"A\"))\n",
    "rdd4.collect()"
   ]
  },
  {
   "cell_type": "code",
   "execution_count": 9,
   "metadata": {},
   "outputs": [
    {
     "data": {
      "text/plain": [
       "[('Project', 3),\n",
       " ('Gutenberg’s', 3),\n",
       " ('Alice’s', 1),\n",
       " ('in', 2),\n",
       " ('Adventures', 2),\n",
       " ('Wonderland', 2)]"
      ]
     },
     "execution_count": 9,
     "metadata": {},
     "output_type": "execute_result"
    }
   ],
   "source": [
    "rdd3.reduceByKey(lambda x,y:x+y).collect()"
   ]
  },
  {
   "cell_type": "code",
   "execution_count": 13,
   "metadata": {},
   "outputs": [
    {
     "name": "stdout",
     "output_type": "stream",
     "text": [
      "Object `sortByKey` not found.\n"
     ]
    }
   ],
   "source": [
    "rdd3.reduceByKey(lambda x,y:x+y).sortByKey?"
   ]
  },
  {
   "cell_type": "code",
   "execution_count": 8,
   "id": "7ae539a4-2a08-4e3e-b816-ab088ba4418f",
   "metadata": {},
   "outputs": [
    {
     "name": "stderr",
     "output_type": "stream",
     "text": [
      "                                                                                \r"
     ]
    },
    {
     "data": {
      "text/plain": [
       "[('Adventures', 2),\n",
       " ('Alice’s', 1),\n",
       " ('Gutenberg’s', 3),\n",
       " ('Project', 3),\n",
       " ('Wonderland', 2),\n",
       " ('in', 2)]"
      ]
     },
     "execution_count": 8,
     "metadata": {},
     "output_type": "execute_result"
    }
   ],
   "source": [
    "\"\"\"\n",
    "sortByKey()\n",
    "\"\"\"\n",
    "rdd3.reduceByKey(lambda x,y:x+y).sortByKey().collect()"
   ]
  },
  {
   "cell_type": "code",
   "execution_count": 14,
   "id": "6208b77b-6a61-44a5-be6b-4e8f75767f02",
   "metadata": {},
   "outputs": [
    {
     "ename": "NameError",
     "evalue": "name 'sc' is not defined",
     "output_type": "error",
     "traceback": [
      "\u001b[0;31m---------------------------------------------------------------------------\u001b[0m",
      "\u001b[0;31mNameError\u001b[0m                                 Traceback (most recent call last)",
      "\u001b[0;32m/tmp/ipykernel_118269/2655914426.py\u001b[0m in \u001b[0;36m<module>\u001b[0;34m\u001b[0m\n\u001b[1;32m      2\u001b[0m \u001b[0mcountByValue\u001b[0m\u001b[0;34m(\u001b[0m\u001b[0;34m)\u001b[0m\u001b[0;34m\u001b[0m\u001b[0;34m\u001b[0m\u001b[0m\n\u001b[1;32m      3\u001b[0m \"\"\"\n\u001b[0;32m----> 4\u001b[0;31m \u001b[0mrdd\u001b[0m \u001b[0;34m=\u001b[0m \u001b[0msc\u001b[0m\u001b[0;34m.\u001b[0m\u001b[0mparallelize\u001b[0m\u001b[0;34m(\u001b[0m\u001b[0;34m[\u001b[0m\u001b[0;36m1\u001b[0m\u001b[0;34m,\u001b[0m\u001b[0;36m3\u001b[0m\u001b[0;34m,\u001b[0m\u001b[0;36m1\u001b[0m\u001b[0;34m,\u001b[0m\u001b[0;36m7\u001b[0m\u001b[0;34m,\u001b[0m\u001b[0;36m3\u001b[0m\u001b[0;34m,\u001b[0m\u001b[0;36m11\u001b[0m\u001b[0;34m]\u001b[0m\u001b[0;34m,\u001b[0m \u001b[0;36m2\u001b[0m\u001b[0;34m)\u001b[0m\u001b[0;34m\u001b[0m\u001b[0;34m\u001b[0m\u001b[0m\n\u001b[0m\u001b[1;32m      5\u001b[0m \u001b[0mrdd\u001b[0m\u001b[0;34m.\u001b[0m\u001b[0mcountByValue\u001b[0m\u001b[0;34m(\u001b[0m\u001b[0;34m)\u001b[0m\u001b[0;34m\u001b[0m\u001b[0;34m\u001b[0m\u001b[0m\n",
      "\u001b[0;31mNameError\u001b[0m: name 'sc' is not defined"
     ]
    }
   ],
   "source": [
    "\"\"\"\n",
    "countByValue()\n",
    "\"\"\"\n",
    "rdd = sc.parallelize([1,3,1,7,3,11], 2)\n",
    "rdd.countByValue()"
   ]
  },
  {
   "cell_type": "code",
   "execution_count": null,
   "id": "b2e8bb8a-6223-4a0b-ac3b-3418b21b1856",
   "metadata": {},
   "outputs": [],
   "source": []
  },
  {
   "cell_type": "markdown",
   "id": "ef29820c-c7cb-48b7-9a44-9e594f3c579d",
   "metadata": {},
   "source": [
    "## --------------------------------------------------------\n",
    "## Prototype:\n",
    "\n",
    "    aggregate(zeroValue, seqOp, combOp)\n",
    "\n",
    "## Description:\n",
    "\n",
    "    aggregate() lets you take an RDD and generate a single value that is of a different type than what was stored in the original RDD.\n",
    "\n",
    "Parameters:\n",
    "\n",
    "    zeroValue: The initialization value, for your result, in the desired format.\n",
    "    seqOp: The operation you want to apply to RDD records. Runs once for every record in a partition.\n",
    "    combOp: Defines how the resulted objects (one for every partition), gets combined.\n",
    "    Example:\n",
    "\n",
    "Compute the sum of a list and the length of that list. Return the result in a pair of (sum, length).\n",
    "\n",
    "    In a Spark shell, I first created a list with 4 elements, with 2 partitions:\n",
    "\n"
   ]
  },
  {
   "cell_type": "code",
   "execution_count": 101,
   "id": "e4b8410d-7b19-4788-8e39-ab47072194db",
   "metadata": {},
   "outputs": [],
   "source": [
    "\n",
    "# listRDD = sc.parallelize([1,2,3,4], 2)\n",
    "listRDD = sc.parallelize([1,3,5,7,9,11], 2)"
   ]
  },
  {
   "cell_type": "code",
   "execution_count": 102,
   "id": "bba56aa5-c5ff-4787-a0f3-7335352778c3",
   "metadata": {},
   "outputs": [],
   "source": [
    "# then I defined my seqOp:\n",
    "seqOp = (lambda local_result, list_element: (local_result[0] + list_element, local_result[1] + 1) )\n"
   ]
  },
  {
   "cell_type": "code",
   "execution_count": 103,
   "id": "89373c91-32f0-40a9-bebe-500e13f20215",
   "metadata": {},
   "outputs": [],
   "source": [
    "# and my combOp:\n",
    "\n",
    "combOp = (lambda some_local_result, another_local_result: (some_local_result[0] + another_local_result[0], some_local_result[1] + another_local_result[1]) )"
   ]
  },
  {
   "cell_type": "code",
   "execution_count": 104,
   "id": "a9525964-9350-44e8-a5c8-3845f7129808",
   "metadata": {},
   "outputs": [
    {
     "data": {
      "text/plain": [
       "(36, 6)"
      ]
     },
     "execution_count": 104,
     "metadata": {},
     "output_type": "execute_result"
    }
   ],
   "source": [
    "listRDD.aggregate( (0, 0), seqOp, combOp)"
   ]
  },
  {
   "cell_type": "markdown",
   "id": "c3187349-d237-4277-833c-9566c1377a44",
   "metadata": {},
   "source": [
    "<img src=\"https://i.stack.imgur.com/Sbk4V.png\">"
   ]
  },
  {
   "cell_type": "code",
   "execution_count": 100,
   "id": "857dae67-8552-4e15-a4d5-518efcf84905",
   "metadata": {},
   "outputs": [
    {
     "data": {
      "text/plain": [
       "'\\n            (0, 0) <-- zeroValue\\n\\n[1, 2]                  [3, 4]\\n\\n0 + 1 = 1               0 + 3 = 3\\n0 + 1 = 1               0 + 1 = 1\\n\\n1 + 2 = 3               3 + 4 = 7\\n1 + 1 = 2               1 + 1 = 2       \\n    |                       |\\n    v                       v\\n  (3, 2)                  (7, 2)\\n      \\\\                    / \\n       \\\\                  /\\n        \\\\                /\\n         \\\\              /\\n          \\\\            /\\n           \\\\          / \\n           ------------\\n           |  combOp  |\\n           ------------\\n                |\\n                v\\n             (10, 4)\\n'"
      ]
     },
     "execution_count": 100,
     "metadata": {},
     "output_type": "execute_result"
    }
   ],
   "source": [
    "# example described in 'figure':\n",
    "\n",
    "\"\"\"\n",
    "            (0, 0) <-- zeroValue\n",
    "\n",
    "[1, 2]                  [3, 4]\n",
    "\n",
    "0 + 1 = 1               0 + 3 = 3\n",
    "0 + 1 = 1               0 + 1 = 1\n",
    "\n",
    "1 + 2 = 3               3 + 4 = 7\n",
    "1 + 1 = 2               1 + 1 = 2       \n",
    "    |                       |\n",
    "    v                       v\n",
    "  (3, 2)                  (7, 2)\n",
    "      \\                    / \n",
    "       \\                  /\n",
    "        \\                /\n",
    "         \\              /\n",
    "          \\            /\n",
    "           \\          / \n",
    "           ------------\n",
    "           |  combOp  |\n",
    "           ------------\n",
    "                |\n",
    "                v\n",
    "             (10, 4)\n",
    "\"\"\""
   ]
  },
  {
   "cell_type": "code",
   "execution_count": null,
   "id": "bc137d21-39fe-4955-b19f-122fbdd25694",
   "metadata": {},
   "outputs": [],
   "source": []
  }
 ],
 "metadata": {
  "kernelspec": {
   "display_name": "Python 3 (ipykernel)",
   "language": "python",
   "name": "python3"
  },
  "language_info": {
   "codemirror_mode": {
    "name": "ipython",
    "version": 3
   },
   "file_extension": ".py",
   "mimetype": "text/x-python",
   "name": "python",
   "nbconvert_exporter": "python",
   "pygments_lexer": "ipython3",
   "version": "3.8.16"
  }
 },
 "nbformat": 4,
 "nbformat_minor": 5
}
