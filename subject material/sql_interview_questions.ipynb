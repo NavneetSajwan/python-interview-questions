{
 "cells": [
  {
   "cell_type": "markdown",
   "metadata": {},
   "source": [
    "## SQL"
   ]
  },
  {
   "cell_type": "markdown",
   "metadata": {},
   "source": [
    "### The order of operation of SQL clauses is as follows:\n",
    "\n",
    "1. **FROM**: The `FROM` clause specifies the table or tables from which data will be queried. This is the first clause in the order of operations.\n",
    "\n",
    "2. **WHERE**: The `WHERE` clause is used to filter the rows that meet a specified condition. It operates on the rows selected in the `FROM` clause.\n",
    "\n",
    "3. **GROUP BY**: The `GROUP BY` clause is used to group the selected rows into sets based on the values of one or more columns. It is often used in combination with aggregate functions like `SUM`, `COUNT`, etc.\n",
    "\n",
    "4. **HAVING**: The `HAVING` clause is used to filter the grouped rows after the `GROUP BY` clause has been applied. It operates on the grouped results.\n",
    "\n",
    "5. **SELECT**: The `SELECT` clause specifies the columns to be included in the result set. It comes after the `FROM`, `WHERE`, `GROUP BY`, and `HAVING` clauses.\n",
    "\n",
    "6. **ORDER BY**: The `ORDER BY` clause is used to sort the result set based on one or more columns. It is typically the last clause in the query.\n",
    "\n",
    "7. **LIMIT/OFFSET**: The `LIMIT` and `OFFSET` clauses are used for pagination. They limit the number of rows returned and specify the starting point of the result set.\n",
    "\n",
    "It's important to note that not all clauses are required in every SQL query, and the order may vary slightly depending on the specific query and its requirements."
   ]
  },
  {
   "cell_type": "markdown",
   "metadata": {},
   "source": [
    "### SQL Coalesce Function\n",
    "The SQL server's Coalesce function is used to handle the Null values. The null values are replaced with user-defined values during the expression evaluation process. This function evaluates arguments in a particular order from the provided arguments list and always returns the first non-null value."
   ]
  },
  {
   "cell_type": "code",
   "execution_count": 1,
   "metadata": {},
   "outputs": [],
   "source": [
    "# SELECT\n",
    "#    country_id,\n",
    "#    name, \n",
    "#    national_day,\n",
    "#    COALESCE(national_day, 'Unknown') AS national_day_coalesced\n",
    "# FROM countries\n",
    "# ORDER BY country_id\n"
   ]
  },
  {
   "cell_type": "markdown",
   "metadata": {},
   "source": [
    "### Union:"
   ]
  },
  {
   "cell_type": "markdown",
   "metadata": {},
   "source": [
    "#### Union:\n",
    "\n",
    "union(A,B) = A + B - intersesct(A,B) \n",
    "\n",
    "#### Union All:\n",
    "\n",
    "unionall(A,B) = A + B\n",
    "\n",
    "#### Intersect:\n",
    "\n",
    "common elements in both\n",
    "\n",
    "#### EXCEPT\n",
    "\n",
    "The EXCEPT operator lists the rows in the first that are not in the second.\n",
    "\n",
    "A except B is not equal to  B except A"
   ]
  },
  {
   "cell_type": "markdown",
   "metadata": {},
   "source": []
  },
  {
   "cell_type": "markdown",
   "metadata": {},
   "source": [
    "### What are slowly changing dimensions and their types:\n",
    "\n",
    "- concept in data warehousing and database management that refer to tables that store historical data about entities whose attributes change over time."
   ]
  },
  {
   "cell_type": "markdown",
   "metadata": {},
   "source": [
    "- Type 0: Doesn't allow any changes\n",
    "- Type 1: Overwrite old entries\n",
    "- Type 2: Changes are saved as entry in a row. Using date range to distinguish bw the old and new entries \n",
    "- Type 3: Extra column for old entries"
   ]
  },
  {
   "cell_type": "markdown",
   "metadata": {},
   "source": [
    "### Pivot\n",
    "\n",
    "PIVOT operator is used to **transform rows into columns**. It rotates a table-valued expression, turning unique values from one column into multiple columns in the output, effectively \"pivoting\" the data."
   ]
  },
  {
   "cell_type": "code",
   "execution_count": null,
   "metadata": {},
   "outputs": [],
   "source": []
  },
  {
   "cell_type": "code",
   "execution_count": null,
   "metadata": {},
   "outputs": [],
   "source": []
  },
  {
   "cell_type": "code",
   "execution_count": null,
   "metadata": {},
   "outputs": [],
   "source": []
  },
  {
   "cell_type": "code",
   "execution_count": null,
   "metadata": {},
   "outputs": [],
   "source": []
  }
 ],
 "metadata": {
  "kernelspec": {
   "display_name": "poc2",
   "language": "python",
   "name": "python3"
  },
  "language_info": {
   "codemirror_mode": {
    "name": "ipython",
    "version": 3
   },
   "file_extension": ".py",
   "mimetype": "text/x-python",
   "name": "python",
   "nbconvert_exporter": "python",
   "pygments_lexer": "ipython3",
   "version": "3.7.10"
  },
  "orig_nbformat": 4
 },
 "nbformat": 4,
 "nbformat_minor": 2
}
