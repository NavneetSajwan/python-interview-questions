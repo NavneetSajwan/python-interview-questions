{
 "cells": [
  {
   "cell_type": "code",
   "execution_count": 1,
   "metadata": {},
   "outputs": [],
   "source": [
    "import os"
   ]
  },
  {
   "cell_type": "code",
   "execution_count": null,
   "metadata": {},
   "outputs": [],
   "source": [
    "Write a Python program to remove the characters which have odd index values of a given string."
   ]
  },
  {
   "cell_type": "code",
   "execution_count": 9,
   "metadata": {},
   "outputs": [],
   "source": []
  },
  {
   "cell_type": "code",
   "execution_count": 5,
   "metadata": {},
   "outputs": [],
   "source": [
    "def is_odd(n):\n",
    "    return n % 2!=0"
   ]
  },
  {
   "cell_type": "code",
   "execution_count": 7,
   "metadata": {},
   "outputs": [
    {
     "data": {
      "text/plain": [
       "True"
      ]
     },
     "execution_count": 7,
     "metadata": {},
     "output_type": "execute_result"
    }
   ],
   "source": [
    "is_odd(11)"
   ]
  },
  {
   "cell_type": "code",
   "execution_count": null,
   "metadata": {},
   "outputs": [],
   "source": [
    "x = \"qwertyuiop\""
   ]
  },
  {
   "cell_type": "code",
   "execution_count": 11,
   "metadata": {},
   "outputs": [
    {
     "data": {
      "text/plain": [
       "'qetuo'"
      ]
     },
     "execution_count": 11,
     "metadata": {},
     "output_type": "execute_result"
    }
   ],
   "source": [
    "result = \"\"\n",
    "for i,char in enumerate(x):\n",
    "    if is_odd(i):\n",
    "        continue\n",
    "    else:\n",
    "        result = result + char\n",
    "\n",
    "result"
   ]
  },
  {
   "cell_type": "code",
   "execution_count": null,
   "metadata": {},
   "outputs": [],
   "source": [
    "Python Program for cube sum of first n natural numbers."
   ]
  },
  {
   "cell_type": "code",
   "execution_count": 17,
   "metadata": {},
   "outputs": [
    {
     "name": "stdout",
     "output_type": "stream",
     "text": [
      "1\n",
      "2\n",
      "3\n"
     ]
    },
    {
     "data": {
      "text/plain": [
       "36"
      ]
     },
     "execution_count": 17,
     "metadata": {},
     "output_type": "execute_result"
    }
   ],
   "source": [
    "n = 3\n",
    "sum = 0\n",
    "for i in range(n):\n",
    "    print(i+1)\n",
    "    sum =  sum + (i+1)**3\n",
    "\n",
    "sum\n"
   ]
  },
  {
   "cell_type": "markdown",
   "metadata": {},
   "source": [
    "Write a program to make a new string with all the consonants deleted from the string \"Hello, have a good day\"."
   ]
  },
  {
   "cell_type": "code",
   "execution_count": null,
   "metadata": {},
   "outputs": [],
   "source": []
  },
  {
   "cell_type": "code",
   "execution_count": null,
   "metadata": {},
   "outputs": [],
   "source": []
  },
  {
   "cell_type": "code",
   "execution_count": null,
   "metadata": {},
   "outputs": [],
   "source": []
  },
  {
   "cell_type": "code",
   "execution_count": null,
   "metadata": {},
   "outputs": [],
   "source": []
  },
  {
   "cell_type": "code",
   "execution_count": null,
   "metadata": {},
   "outputs": [],
   "source": []
  },
  {
   "cell_type": "code",
   "execution_count": null,
   "metadata": {},
   "outputs": [],
   "source": [
    "id| salary\n",
    "1|6000\n",
    "\n",
    "2|5000\n",
    "\n",
    "3|5000\n",
    "\n",
    "4|3000\n",
    "\n",
    "5|7000"
   ]
  },
  {
   "cell_type": "code",
   "execution_count": null,
   "metadata": {},
   "outputs": [],
   "source": [
    "df = spark.read.csv(path= \"/data/data.csv\")"
   ]
  },
  {
   "cell_type": "code",
   "execution_count": null,
   "metadata": {},
   "outputs": [],
   "source": [
    "select\n",
    "id, \n",
    "salary as secondhighest\n",
    "(\n",
    "select\n",
    "id,\n",
    "salary,\n",
    "row_number() over (partition by id order by salary) as rn \n",
    ")\n",
    "where rn = 2"
   ]
  },
  {
   "cell_type": "code",
   "execution_count": null,
   "metadata": {},
   "outputs": [],
   "source": [
    "eid| ename | mid\n",
    "1|Aviral|Null\n",
    "2|Mayank|1\n",
    "3|Raj|1\n",
    "4|Mahesh|3\n",
    "5|Kumar|2"
   ]
  },
  {
   "cell_type": "code",
   "execution_count": null,
   "metadata": {},
   "outputs": [],
   "source": [
    "select\n",
    "e.eid,\n",
    "e.ename,\n",
    "m.ename\n",
    "from office e \n",
    "join office m \n",
    "on e.mid = m.eid\n"
   ]
  },
  {
   "cell_type": "code",
   "execution_count": null,
   "metadata": {},
   "outputs": [],
   "source": []
  },
  {
   "cell_type": "code",
   "execution_count": null,
   "metadata": {},
   "outputs": [],
   "source": []
  },
  {
   "cell_type": "markdown",
   "metadata": {},
   "source": [
    "ColumnA\tColumnB\n",
    "\n",
    "1\t \t1\n",
    "\n",
    "1\t \t1\n",
    "\n",
    "1\t \t2\n",
    "\n",
    "2\t \tNULL\n",
    "\n",
    "2\t \t3\n",
    "\n",
    "NULL\t3\n",
    "\n",
    "3\t \t4\n",
    "\n",
    "3\t \t6\n",
    "\n",
    "4\t \t \n",
    "\n",
    "5\t \t \n",
    "\n",
    "NULL"
   ]
  },
  {
   "cell_type": "markdown",
   "metadata": {},
   "source": [
    "inner:\n",
    "\n",
    "1: 6\n",
    "2: 2\n",
    "3: 4\n",
    "4: 1\n",
    "14\n",
    "\n",
    "left outer:\n",
    "\n"
   ]
  },
  {
   "cell_type": "markdown",
   "metadata": {},
   "source": [
    "team1\t\tteam2\t\tresult\n",
    "\n",
    " \n",
    "\n",
    "India\t\tPakistan\tIndia\n",
    "\n",
    " \n",
    "\n",
    "England\t\tAfghanistan\tAfghanistan\n",
    "\n",
    " \n",
    "\n",
    "Australia\tIndia\t\tIndia\n",
    "\n",
    " \n",
    "\n",
    "Sri Lanka\tBangladesh\tSri Lanka\n",
    "\n",
    " \n",
    "\n",
    " \n",
    "\n",
    "England\t\tPakistan\tEngland\n",
    "\n",
    " \n",
    "\n",
    "Australia\tNew Zealand\tAustralia"
   ]
  },
  {
   "cell_type": "markdown",
   "metadata": {},
   "source": [
    "select \n",
    "\n",
    "case when team1 is not in (result) then score=0\n",
    "\n",
    "(\n",
    "    select\n",
    "count(result) as score,\n",
    "result\n",
    "from teams\n",
    "group by result\n",
    ") sub"
   ]
  },
  {
   "cell_type": "code",
   "execution_count": null,
   "metadata": {},
   "outputs": [],
   "source": [
    "CREATE TABLE results (\n",
    "    team1 VARCHAR(50),\n",
    "    team2 VARCHAR(50),\n",
    "    result VARCHAR(50)\n",
    ");\n",
    "\n",
    "-- Insert data into the results table\n",
    "INSERT INTO results (team1, team2, result) VALUES\n",
    "('India', 'Pakistan', 'India'),\n",
    "('England', 'Afghanistan', 'Afghanistan'),\n",
    "('Australia', 'India', 'India'),\n",
    "('Sri Lanka', 'Bangladesh', 'Sri Lanka'),\n",
    "('England', 'Pakistan', 'England'),\n",
    "('Australia', 'New Zealand', 'Australia');\n"
   ]
  },
  {
   "cell_type": "code",
   "execution_count": null,
   "metadata": {},
   "outputs": [],
   "source": []
  }
 ],
 "metadata": {
  "kernelspec": {
   "display_name": "poc2",
   "language": "python",
   "name": "python3"
  },
  "language_info": {
   "codemirror_mode": {
    "name": "ipython",
    "version": 3
   },
   "file_extension": ".py",
   "mimetype": "text/x-python",
   "name": "python",
   "nbconvert_exporter": "python",
   "pygments_lexer": "ipython3",
   "version": "3.7.10"
  }
 },
 "nbformat": 4,
 "nbformat_minor": 2
}
